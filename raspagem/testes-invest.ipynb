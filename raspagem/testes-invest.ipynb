{
 "cells": [
  {
   "cell_type": "code",
   "execution_count": 8,
   "metadata": {},
   "outputs": [],
   "source": [
    "import requests\n",
    "from bs4 import BeautifulSoup\n",
    "import pandas as pd\n",
    "#import time\n"
   ]
  },
  {
   "cell_type": "code",
   "execution_count": 9,
   "metadata": {},
   "outputs": [
    {
     "name": "stdout",
     "output_type": "stream",
     "text": [
      "0        DXCO3\n",
      "1     CMIG3 gg\n",
      "2        PARD3\n",
      "3        FLRY3\n",
      "4        MRFG3\n",
      "5        HGTX3\n",
      "6        JOPA3\n",
      "7        KLBN3\n",
      "8        HYPE3\n",
      "9        ARZZ3\n",
      "10       NTCO3\n",
      "11       ABEV3\n",
      "12       MYPK3\n",
      "13       VULC3\n",
      "14       CAML3\n",
      "15       CTKA3\n",
      "16       SUZB3\n",
      "17       PETR3\n",
      "18       SUZB3\n",
      "19       RAPT3\n",
      "Name: ticker, dtype: object\n"
     ]
    }
   ],
   "source": [
    "empresas = pd.read_excel('empresa-ticker-arrumado.xlsx')\n",
    "empresas_tickers = empresas['ticker'].str.strip()\n",
    "print(empresas_tickers)\n",
    "\n",
    "tickers = empresas_tickers\n",
    "trocar_planilha = []"
   ]
  },
  {
   "cell_type": "code",
   "execution_count": 10,
   "metadata": {},
   "outputs": [
    {
     "name": "stdout",
     "output_type": "stream",
     "text": [
      "<Response [200]>\n",
      "<Response [404]>\n",
      "<Response [200]>\n",
      "<Response [200]>\n",
      "<Response [200]>\n",
      "<Response [200]>\n",
      "<Response [200]>\n",
      "<Response [200]>\n",
      "<Response [200]>\n",
      "<Response [200]>\n",
      "<Response [200]>\n",
      "<Response [200]>\n",
      "<Response [200]>\n",
      "<Response [200]>\n",
      "<Response [200]>\n",
      "<Response [200]>\n",
      "<Response [200]>\n",
      "<Response [200]>\n",
      "<Response [200]>\n",
      "<Response [200]>\n"
     ]
    }
   ],
   "source": [
    "for ticker in tickers:\n",
    "    \n",
    "    # 1 - faz requisição\n",
    "    link = \"https://statusinvest.com.br/acoes/\"+ticker # VARIA: \"bdrs\" e \"acoes\"\n",
    "    headers = {\"User-Agent\": \"Mozilla/5.0 (Windows NT 10.0; Win64; x64) AppleWebKit/537.36 (KHTML, like Gecko) Chrome/117.0.0.0 Safari/537.36\"}\n",
    "    requisicao = requests.get(link, headers=headers)\n",
    "    site = BeautifulSoup(requisicao.text, \"html.parser\")\n",
    "    print(requisicao)\n",
    "    \n",
    "    if(requisicao.status_code != 200):\n",
    "        trocar_planilha.append('trocar-planilha')\n",
    "    else:\n",
    "        trocar_planilha.append('manter')"
   ]
  },
  {
   "cell_type": "code",
   "execution_count": 11,
   "metadata": {},
   "outputs": [],
   "source": [
    "empresas['trocar'] = pd.series(trocar_planilha)\n",
    "empresas.to_excel('ticker-trocar-manter.xlsx')"
   ]
  }
 ],
 "metadata": {
  "kernelspec": {
   "display_name": "Python 3",
   "language": "python",
   "name": "python3"
  },
  "language_info": {
   "codemirror_mode": {
    "name": "ipython",
    "version": 3
   },
   "file_extension": ".py",
   "mimetype": "text/x-python",
   "name": "python",
   "nbconvert_exporter": "python",
   "pygments_lexer": "ipython3",
   "version": "3.12.0"
  }
 },
 "nbformat": 4,
 "nbformat_minor": 2
}
